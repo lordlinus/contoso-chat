{
 "cells": [
  {
   "cell_type": "markdown",
   "metadata": {},
   "source": [
    "# AI Studio Azure batch run Evaluation\n",
    "### Intent Prompt Flow - Base Run\n",
    "\n",
    "Now in order to test these more thoroughly, we can use the Azure AI Studio to run batches of test data with the evaluation prompt flow on a larger dataset."
   ]
  },
  {
   "cell_type": "code",
   "execution_count": 1,
   "metadata": {},
   "outputs": [],
   "source": [
    "import json\n",
    "# Import required libraries\n",
    "from promptflow.azure import PFClient\n",
    "# Import required libraries\n",
    "from azure.identity import DefaultAzureCredential, InteractiveBrowserCredential\n",
    "from evaluate import run_azure_flow, run_azure_eval_flow"
   ]
  },
  {
   "cell_type": "code",
   "execution_count": 2,
   "metadata": {},
   "outputs": [],
   "source": [
    "try:\n",
    "    credential = DefaultAzureCredential()\n",
    "    # Check if given credential can get token successfully.\n",
    "    credential.get_token(\"https://management.azure.com/.default\")\n",
    "except Exception as ex:\n",
    "    # Fall back to InteractiveBrowserCredential in case DefaultAzureCredential not work\n",
    "    credential = InteractiveBrowserCredential()"
   ]
  },
  {
   "cell_type": "markdown",
   "metadata": {},
   "source": [
    "Populate the `config.json` file with the subscription_id, resource_group, and workspace_name."
   ]
  },
  {
   "cell_type": "code",
   "execution_count": 3,
   "metadata": {},
   "outputs": [
    {
     "name": "stderr",
     "output_type": "stream",
     "text": [
      "Found the config file in: ../config.json\n"
     ]
    }
   ],
   "source": [
    "config_path = \"../config.json\"\n",
    "pf_azure_client = PFClient.from_config(credential=credential, path=config_path)"
   ]
  },
  {
   "cell_type": "markdown",
   "metadata": {},
   "source": [
    "Set the properties needed to run in Azure"
   ]
  },
  {
   "cell_type": "code",
   "execution_count": 4,
   "metadata": {},
   "outputs": [],
   "source": [
    "# Update the runtime to the name of the runtime you created previously\n",
    "runtime = \"automatic\"\n",
    "flow = \"../contoso-intent\"\n",
    "data = \"../data/alltestdata.jsonl\"\n",
    "run_name = \"intent_base_run\"\n",
    "column_mapping={\"customerId\": \"${data.customerId}\",\"question\": \"${data.question}\"}\n"
   ]
  },
  {
   "cell_type": "markdown",
   "metadata": {},
   "source": [
    "Create a base run to use as the variant for the evaluation runs. "
   ]
  },
  {
   "cell_type": "code",
   "execution_count": 5,
   "metadata": {},
   "outputs": [
    {
     "name": "stderr",
     "output_type": "stream",
     "text": [
      "\u001b[32mUploading contoso-intent (0.08 MBs): 100%|██████████| 82705/82705 [00:01<00:00, 58704.17it/s]\n",
      "\u001b[39m\n",
      "\n",
      "[2024-03-05 21:05:57,257][promptflow][WARNING] - You're using automatic runtime, if it's first time you're using it, it may take a while to build runtime and you may see 'NotStarted' status for a while. \n"
     ]
    },
    {
     "name": "stdout",
     "output_type": "stream",
     "text": [
      "Portal url: https://ai.azure.com/projectflows/bulkrun/run/intent_base_run_03_05_2105/details?wsid=/subscriptions/a195fdab-ef20-44e0-ae3a-48b2e1764e85/resourcegroups/contchat-rg/providers/Microsoft.MachineLearningServices/workspaces/contoso-chat-sf-aiproj\n"
     ]
    }
   ],
   "source": [
    "base_run = run_azure_flow(runtime, flow, run_name, data, column_mapping, pf_azure_client)"
   ]
  },
  {
   "cell_type": "code",
   "execution_count": 6,
   "metadata": {},
   "outputs": [
    {
     "name": "stdout",
     "output_type": "stream",
     "text": [
      "(Run status is 'NotStarted', continue streaming...)\n",
      "(Run status is 'NotStarted', continue streaming...)\n",
      "(Run status is 'NotStarted', continue streaming...)\n",
      "(Run status is 'NotStarted', continue streaming...)\n",
      "(Run status is 'NotStarted', continue streaming...)\n",
      "(Run status is 'NotStarted', continue streaming...)\n",
      "2024-03-05 13:10:10 +0000      50 promptflow-runtime INFO     [intent_base_run_03_05_2105] Receiving v2 bulk run request 8d491848-f56f-483f-bdf9-fc3d168c1343: {\"flow_id\": \"intent_base_run_03_05_2105\", \"flow_run_id\": \"intent_base_run_03_05_2105\", \"flow_source\": {\"flow_source_type\": 1, \"flow_source_info\": {\"snapshot_id\": \"51d26488-879d-426d-8664-656703f3ae01\"}, \"flow_dag_file\": \"flow.dag.yaml\"}, \"connections\": \"**data_scrubbed**\", \"log_path\": \"https://stcontosoy46u2sqpv3h6g.blob.core.windows.net/8927edb2-b165-4c51-a19d-7201534af4ac-azureml/ExperimentRun/dcid.intent_base_run_03_05_2105/logs/azureml/executionlogs.txt?sv=2019-07-07&sr=b&sig=**data_scrubbed**&skoid=3d6e6777-5406-46a6-9b64-dbf0f2b204d3&sktid=16b3c013-d300-468d-ac64-7eda0820b6d3&skt=2024-03-05T11%3A25%3A18Z&ske=2024-03-06T19%3A35%3A18Z&sks=b&skv=2019-07-07&st=2024-03-05T13%3A00%3A10Z&se=2024-03-05T21%3A10%3A10Z&sp=rcw\", \"app_insights_instrumentation_key\": \"InstrumentationKey=**data_scrubbed**;IngestionEndpoint=https://swedencentral-0.in.applicationinsights.azure.com/\", \"batch_timeout_sec\": 36000, \"data_inputs\": {\"data\": \"azureml://datastores/workspaceblobstore/paths/LocalUpload/95d29047bbd601233b0275c6ef72dc19/alltestdata.jsonl\"}, \"inputs_mapping\": {\"customerId\": \"${data.customerId}\", \"question\": \"${data.question}\"}, \"azure_storage_setting\": {\"azure_storage_mode\": 1, \"storage_account_name\": \"stcontosoy46u2sqpv3h6g\", \"blob_container_name\": \"8927edb2-b165-4c51-a19d-7201534af4ac-azureml-blobstore\", \"flow_artifacts_root_path\": \"promptflow/PromptFlowArtifacts/intent_base_run_03_05_2105\", \"blob_container_sas_token\": \"?sv=2019-07-07&sr=c&sig=**data_scrubbed**&skoid=3d6e6777-5406-46a6-9b64-dbf0f2b204d3&sktid=16b3c013-d300-468d-ac64-7eda0820b6d3&skt=2024-03-05T13%3A10%3A10Z&ske=2024-03-12T13%3A10%3A10Z&sks=b&skv=2019-07-07&se=2024-03-12T13%3A10%3A10Z&sp=racwl\", \"output_datastore_name\": \"workspaceblobstore\"}}\n",
      "2024-03-05 13:10:10 +0000      50 promptflow-runtime INFO     Runtime version: 20240222.v3. PromptFlow version: 1.6.0rc1\n",
      "2024-03-05 13:10:10 +0000      50 promptflow-runtime INFO     Updating intent_base_run_03_05_2105 to Status.Preparing...\n",
      "2024-03-05 13:10:11 +0000      50 promptflow-runtime INFO     Downloading snapshot to /mnt/host/service/app/36615/requests/intent_base_run_03_05_2105\n",
      "2024-03-05 13:10:11 +0000      50 promptflow-runtime INFO     Get snapshot sas url for 51d26488-879d-426d-8664-656703f3ae01.\n",
      "2024-03-05 13:10:11 +0000      50 promptflow-runtime INFO     Snapshot 51d26488-879d-426d-8664-656703f3ae01 contains 12 files.\n",
      "2024-03-05 13:10:11 +0000      50 promptflow-runtime INFO     Download snapshot 51d26488-879d-426d-8664-656703f3ae01 completed.\n",
      "2024-03-05 13:10:11 +0000      50 promptflow-runtime INFO     Successfully download snapshot to /mnt/host/service/app/36615/requests/intent_base_run_03_05_2105\n",
      "2024-03-05 13:10:11 +0000      50 promptflow-runtime INFO     About to execute a python flow.\n",
      "2024-03-05 13:10:11 +0000      50 promptflow-runtime INFO     Use spawn method to start child process.\n",
      "2024-03-05 13:10:11 +0000      50 promptflow-runtime INFO     Starting to check process 186 status for run intent_base_run_03_05_2105\n",
      "2024-03-05 13:10:11 +0000      50 promptflow-runtime INFO     Start checking run status for run intent_base_run_03_05_2105\n",
      "2024-03-05 13:10:16 +0000     186 promptflow-runtime INFO     [50--186] Start processing flowV2......\n",
      "2024-03-05 13:10:16 +0000     186 promptflow-runtime INFO     Runtime version: 20240222.v3. PromptFlow version: 1.6.0rc1\n",
      "2024-03-05 13:10:16 +0000     186 promptflow-runtime INFO     Setting mlflow tracking uri...\n",
      "2024-03-05 13:10:16 +0000     186 promptflow-runtime INFO     Validating 'AzureML Data Scientist' user authentication...\n",
      "2024-03-05 13:10:17 +0000     186 promptflow-runtime INFO     Successfully validated 'AzureML Data Scientist' user authentication.\n",
      "2024-03-05 13:10:17 +0000     186 promptflow-runtime INFO     Using AzureMLRunStorageV2\n",
      "2024-03-05 13:10:17 +0000     186 promptflow-runtime INFO     Setting mlflow tracking uri to 'azureml://swedencentral.api.azureml.ms/mlflow/v1.0/subscriptions/a195fdab-ef20-44e0-ae3a-48b2e1764e85/resourceGroups/contchat-rg/providers/Microsoft.MachineLearningServices/workspaces/contoso-chat-sf-aiproj'\n",
      "2024-03-05 13:10:17 +0000     186 promptflow-runtime INFO     Initialized blob service client.\n",
      "2024-03-05 13:10:17 +0000     186 promptflow-runtime INFO     Blob service client has api version: 2023-11-03\n",
      "2024-03-05 13:10:17 +0000     186 promptflow-runtime INFO     Setting mlflow tracking uri to 'azureml://swedencentral.api.azureml.ms/mlflow/v1.0/subscriptions/a195fdab-ef20-44e0-ae3a-48b2e1764e85/resourceGroups/contchat-rg/providers/Microsoft.MachineLearningServices/workspaces/contoso-chat-sf-aiproj'\n",
      "2024-03-05 13:10:18 +0000     186 promptflow-runtime INFO     Resolve data from url finished in 0.9110437940000224 seconds\n",
      "(Run status is 'Running', continue streaming...)\n",
      "2024-03-05 13:10:18 +0000     186 promptflow-runtime INFO     Starting the aml run 'intent_base_run_03_05_2105'...\n",
      "2024-03-05 13:10:18 +0000     186 execution.bulk     INFO     The timeout for the batch run is 36000 seconds.\n",
      "2024-03-05 13:10:18 +0000     186 execution.bulk     INFO     Set process count to 4 by taking the minimum value among the factors of {'default_worker_count': 4, 'row_count': 12}.\n",
      "2024-03-05 13:10:23 +0000     186 execution.bulk     INFO     Process name(ForkProcess-2:2:4)-Process id(355)-Line number(0) start execution.\n",
      "2024-03-05 13:10:23 +0000     186 execution.bulk     INFO     Process name(ForkProcess-2:2:1)-Process id(330)-Line number(3) start execution.\n",
      "2024-03-05 13:10:23 +0000     186 execution.bulk     INFO     Process name(ForkProcess-2:2:2)-Process id(339)-Line number(1) start execution.\n",
      "2024-03-05 13:10:23 +0000     186 execution.bulk     INFO     Process name(ForkProcess-2:2:3)-Process id(350)-Line number(2) start execution.\n",
      "2024-03-05 13:10:25 +0000     186 execution.bulk     INFO     Process name(ForkProcess-2:2:3)-Process id(350)-Line number(2) completed.\n",
      "2024-03-05 13:10:25 +0000     186 execution.bulk     INFO     Process name(ForkProcess-2:2:3)-Process id(350)-Line number(4) start execution.\n",
      "2024-03-05 13:10:25 +0000     186 execution.bulk     INFO     Process name(ForkProcess-2:2:4)-Process id(355)-Line number(0) completed.\n",
      "2024-03-05 13:10:25 +0000     186 execution.bulk     INFO     Process name(ForkProcess-2:2:4)-Process id(355)-Line number(5) start execution.\n",
      "2024-03-05 13:10:25 +0000     186 execution.bulk     INFO     Process name(ForkProcess-2:2:3)-Process id(350)-Line number(4) completed.\n",
      "2024-03-05 13:10:25 +0000     186 execution.bulk     INFO     Process name(ForkProcess-2:2:3)-Process id(350)-Line number(6) start execution.\n",
      "2024-03-05 13:10:25 +0000     186 execution.bulk     INFO     Finished 3 / 12 lines.\n",
      "2024-03-05 13:10:25 +0000     186 execution.bulk     INFO     Average execution time for completed lines: 2.33 seconds. Estimated time for incomplete lines: 20.97 seconds.\n",
      "2024-03-05 13:10:26 +0000     186 execution.bulk     INFO     Process name(ForkProcess-2:2:3)-Process id(350)-Line number(6) completed.\n",
      "2024-03-05 13:10:26 +0000     186 execution.bulk     INFO     Process name(ForkProcess-2:2:3)-Process id(350)-Line number(7) start execution.\n",
      "2024-03-05 13:10:26 +0000     186 execution.bulk     INFO     Finished 4 / 12 lines.\n",
      "2024-03-05 13:10:26 +0000     186 execution.bulk     INFO     Average execution time for completed lines: 2.01 seconds. Estimated time for incomplete lines: 16.08 seconds.\n",
      "2024-03-05 13:10:27 +0000     186 execution.bulk     INFO     Process name(ForkProcess-2:2:1)-Process id(330)-Line number(3) completed.\n",
      "2024-03-05 13:10:27 +0000     186 execution.bulk     INFO     Process name(ForkProcess-2:2:1)-Process id(330)-Line number(8) start execution.\n",
      "2024-03-05 13:10:28 +0000     186 execution.bulk     INFO     Finished 5 / 12 lines.\n",
      "2024-03-05 13:10:28 +0000     186 execution.bulk     INFO     Average execution time for completed lines: 1.81 seconds. Estimated time for incomplete lines: 12.67 seconds.\n",
      "2024-03-05 13:10:29 +0000     186 execution.bulk     INFO     Process name(ForkProcess-2:2:2)-Process id(339)-Line number(1) completed.\n",
      "2024-03-05 13:10:30 +0000     186 execution.bulk     INFO     Process name(ForkProcess-2:2:2)-Process id(339)-Line number(9) start execution.\n",
      "2024-03-05 13:10:30 +0000     186 execution.bulk     INFO     Finished 6 / 12 lines.\n",
      "2024-03-05 13:10:30 +0000     186 execution.bulk     INFO     Average execution time for completed lines: 1.85 seconds. Estimated time for incomplete lines: 11.1 seconds.\n",
      "2024-03-05 13:10:30 +0000     186 execution.bulk     INFO     Process name(ForkProcess-2:2:2)-Process id(339)-Line number(9) completed.\n",
      "2024-03-05 13:10:30 +0000     186 execution.bulk     INFO     Process name(ForkProcess-2:2:2)-Process id(339)-Line number(10) start execution.\n",
      "2024-03-05 13:10:31 +0000     186 execution.bulk     INFO     Finished 7 / 12 lines.\n",
      "2024-03-05 13:10:31 +0000     186 execution.bulk     INFO     Average execution time for completed lines: 1.73 seconds. Estimated time for incomplete lines: 8.65 seconds.\n",
      "2024-03-05 13:10:31 +0000     186 execution.bulk     INFO     Process name(ForkProcess-2:2:4)-Process id(355)-Line number(5) completed.\n",
      "2024-03-05 13:10:31 +0000     186 execution.bulk     INFO     Process name(ForkProcess-2:2:4)-Process id(355)-Line number(11) start execution.\n",
      "2024-03-05 13:10:32 +0000     186 execution.bulk     INFO     Finished 8 / 12 lines.\n",
      "2024-03-05 13:10:32 +0000     186 execution.bulk     INFO     Average execution time for completed lines: 1.64 seconds. Estimated time for incomplete lines: 6.56 seconds.\n",
      "2024-03-05 13:10:32 +0000     186 execution.bulk     INFO     Process name(ForkProcess-2:2:1)-Process id(330)-Line number(8) completed.\n",
      "2024-03-05 13:10:32 +0000     186 execution.bulk     INFO     Process name(ForkProcess-2:2:2)-Process id(339)-Line number(10) completed.\n",
      "2024-03-05 13:10:32 +0000     186 execution.bulk     INFO     Process name(ForkProcess-2:2:3)-Process id(350)-Line number(7) completed.\n",
      "2024-03-05 13:10:33 +0000     186 execution.bulk     INFO     Finished 11 / 12 lines.\n",
      "2024-03-05 13:10:33 +0000     186 execution.bulk     INFO     Average execution time for completed lines: 1.29 seconds. Estimated time for incomplete lines: 1.29 seconds.\n",
      "2024-03-05 13:10:37 +0000     186 execution.bulk     INFO     Process name(ForkProcess-2:2:4)-Process id(355)-Line number(11) completed.\n",
      "2024-03-05 13:10:38 +0000     186 execution.bulk     INFO     Finished 12 / 12 lines.\n",
      "2024-03-05 13:10:38 +0000     186 execution.bulk     INFO     Average execution time for completed lines: 1.6 seconds. Estimated time for incomplete lines: 0.0 seconds.\n",
      "2024-03-05 13:10:39 +0000     186 execution          ERROR    10/12 flow run failed, indexes: [0,1,2,3,5,6,7,9,10,11], exception of index 0: Flow execution failed. Invalid property 'answer' when accessing the node 'run_chat_or_support'. Please check the property and try again.\n",
      "2024-03-05 13:10:39 +0000     186 promptflow-runtime INFO     Post processing batch result...\n",
      "2024-03-05 13:10:40 +0000     186 execution.bulk     INFO     Upload status summary metrics for run intent_base_run_03_05_2105 finished in 1.4866384900000185 seconds\n",
      "2024-03-05 13:10:40 +0000     186 promptflow-runtime INFO     Successfully write run properties {\"azureml.promptflow.total_tokens\": 2626, \"_azureml.evaluate_artifacts\": \"[{\\\"path\\\": \\\"instance_results.jsonl\\\", \\\"type\\\": \\\"table\\\"}]\"} with run id 'intent_base_run_03_05_2105'\n",
      "2024-03-05 13:10:40 +0000     186 execution.bulk     INFO     Upload RH properties for run intent_base_run_03_05_2105 finished in 0.07174798500000179 seconds\n",
      "2024-03-05 13:10:40 +0000     186 promptflow-runtime INFO     Creating unregistered output Asset for Run intent_base_run_03_05_2105...\n",
      "2024-03-05 13:10:43 +0000     186 promptflow-runtime INFO     Created debug_info Asset: azureml://locations/swedencentral/workspaces/8927edb2-b165-4c51-a19d-7201534af4ac/data/azureml_intent_base_run_03_05_2105_output_data_debug_info/versions/1\n",
      "2024-03-05 13:10:43 +0000     186 promptflow-runtime INFO     Creating unregistered output Asset for Run intent_base_run_03_05_2105...\n",
      "2024-03-05 13:10:43 +0000     186 promptflow-runtime INFO     Created flow_outputs output Asset: azureml://locations/swedencentral/workspaces/8927edb2-b165-4c51-a19d-7201534af4ac/data/azureml_intent_base_run_03_05_2105_output_data_flow_outputs/versions/1\n",
      "2024-03-05 13:10:43 +0000     186 promptflow-runtime INFO     Creating Artifact for Run intent_base_run_03_05_2105...\n",
      "2024-03-05 13:10:43 +0000     186 promptflow-runtime INFO     Created instance_results.jsonl Artifact.\n",
      "2024-03-05 13:10:43 +0000     186 promptflow-runtime INFO     Patching intent_base_run_03_05_2105...\n",
      "2024-03-05 13:10:43 +0000     186 promptflow-runtime WARNING  [intent_base_run_03_05_2105] Run failed. Execution stackTrace: Traceback (most recent call last):\n",
      "  File \"/azureml-envs/prompt-flow/runtime/lib/python3.9/site-packages/promptflow/executor/_input_assignment_parser.py\", line 98, in parse_node_property\n",
      "    val = getattr(val, part)\n",
      "\n",
      "The above exception was the direct cause of the following exception:\n",
      "\n",
      "Traceback (most recent call last):\n",
      "  File \"/azureml-envs/prompt-flow/runtime/lib/python3.9/site-packages/promptflow/executor/flow_executor.py\", line 892, in _exec\n",
      "    output, nodes_outputs = self._traverse_nodes(inputs, context)\n",
      "  File \"/azureml-envs/prompt-flow/runtime/lib/python3.9/site-packages/promptflow/executor/flow_executor.py\", line 991, in _traverse_nodes\n",
      "    outputs = self._extract_outputs(nodes_outputs, bypassed_nodes, inputs)\n",
      "  File \"/azureml-envs/prompt-flow/runtime/lib/python3.9/site-packages/promptflow/executor/flow_executor.py\", line 969, in _extract_outputs\n",
      "    outputs[name] = _input_assignment_parser.parse_node_property(\n",
      "  File \"/azureml-envs/prompt-flow/runtime/lib/python3.9/site-packages/promptflow/executor/_input_assignment_parser.py\", line 105, in parse_node_property\n",
      "    raise InvalidReferenceProperty(message_format=message_format, property=property, node_name=node_name) from e\n",
      "\n",
      "2024-03-05 13:10:43 +0000     186 promptflow-runtime INFO     Ending the aml run 'intent_base_run_03_05_2105' with status 'Completed'...\n",
      "======= Run Summary =======\n",
      "Run name: \"intent_base_run_03_05_2105\"\n",
      "Run status: \"Completed\"\n",
      "Start time: \"2024-03-05 13:10:18.612200+00:00\"\n",
      "Duration: \"0:00:25.269757\"\n",
      "Run url: \"https://ai.azure.com/projectflows/bulkrun/run/intent_base_run_03_05_2105/details?wsid=/subscriptions/a195fdab-ef20-44e0-ae3a-48b2e1764e85/resourcegroups/contchat-rg/providers/Microsoft.MachineLearningServices/workspaces/contoso-chat-sf-aiproj\""
     ]
    },
    {
     "data": {
      "text/plain": [
       "<promptflow._sdk.entities._run.Run at 0x7f0bdd7cd350>"
      ]
     },
     "execution_count": 6,
     "metadata": {},
     "output_type": "execute_result"
    }
   ],
   "source": [
    "pf_azure_client.stream(base_run)"
   ]
  },
  {
   "cell_type": "code",
   "execution_count": 7,
   "metadata": {},
   "outputs": [
    {
     "data": {
      "text/html": [
       "<div>\n",
       "<style scoped>\n",
       "    .dataframe tbody tr th:only-of-type {\n",
       "        vertical-align: middle;\n",
       "    }\n",
       "\n",
       "    .dataframe tbody tr th {\n",
       "        vertical-align: top;\n",
       "    }\n",
       "\n",
       "    .dataframe thead th {\n",
       "        text-align: right;\n",
       "    }\n",
       "</style>\n",
       "<table border=\"1\" class=\"dataframe\">\n",
       "  <thead>\n",
       "    <tr style=\"text-align: right;\">\n",
       "      <th></th>\n",
       "      <th>inputs.chat_history</th>\n",
       "      <th>inputs.customerId</th>\n",
       "      <th>inputs.question</th>\n",
       "      <th>inputs.line_number</th>\n",
       "      <th>outputs.answer</th>\n",
       "      <th>outputs.intent_context</th>\n",
       "      <th>outputs.context</th>\n",
       "    </tr>\n",
       "    <tr>\n",
       "      <th>outputs.line_number</th>\n",
       "      <th></th>\n",
       "      <th></th>\n",
       "      <th></th>\n",
       "      <th></th>\n",
       "      <th></th>\n",
       "      <th></th>\n",
       "      <th></th>\n",
       "    </tr>\n",
       "  </thead>\n",
       "  <tbody>\n",
       "    <tr>\n",
       "      <th>0</th>\n",
       "      <td>[]</td>\n",
       "      <td>4</td>\n",
       "      <td>tell me about your hiking jackets</td>\n",
       "      <td>0</td>\n",
       "      <td>None</td>\n",
       "      <td>None</td>\n",
       "      <td>None</td>\n",
       "    </tr>\n",
       "    <tr>\n",
       "      <th>1</th>\n",
       "      <td>[]</td>\n",
       "      <td>1</td>\n",
       "      <td>Do you have any climbing gear?</td>\n",
       "      <td>1</td>\n",
       "      <td>None</td>\n",
       "      <td>None</td>\n",
       "      <td>None</td>\n",
       "    </tr>\n",
       "    <tr>\n",
       "      <th>2</th>\n",
       "      <td>[]</td>\n",
       "      <td>3</td>\n",
       "      <td>Can you tell me about your selection of tents?</td>\n",
       "      <td>2</td>\n",
       "      <td>None</td>\n",
       "      <td>None</td>\n",
       "      <td>None</td>\n",
       "    </tr>\n",
       "    <tr>\n",
       "      <th>3</th>\n",
       "      <td>[]</td>\n",
       "      <td>6</td>\n",
       "      <td>Do you have any hiking boots?</td>\n",
       "      <td>3</td>\n",
       "      <td>Hey Emily! 👋 Absolutely, we have some amazing ...</td>\n",
       "      <td>intent: chat</td>\n",
       "      <td>[{'content': 'Introducing the TrekReady Hiking...</td>\n",
       "    </tr>\n",
       "    <tr>\n",
       "      <th>4</th>\n",
       "      <td>[]</td>\n",
       "      <td>2</td>\n",
       "      <td>What gear do you recommend for hiking?</td>\n",
       "      <td>4</td>\n",
       "      <td>None</td>\n",
       "      <td>None</td>\n",
       "      <td>None</td>\n",
       "    </tr>\n",
       "    <tr>\n",
       "      <th>5</th>\n",
       "      <td>[]</td>\n",
       "      <td>7</td>\n",
       "      <td>what is the temperature rating of my sleeping ...</td>\n",
       "      <td>5</td>\n",
       "      <td>None</td>\n",
       "      <td>None</td>\n",
       "      <td>None</td>\n",
       "    </tr>\n",
       "    <tr>\n",
       "      <th>6</th>\n",
       "      <td>[]</td>\n",
       "      <td>7</td>\n",
       "      <td>what is the temperature rating of the cozynigh...</td>\n",
       "      <td>6</td>\n",
       "      <td>None</td>\n",
       "      <td>None</td>\n",
       "      <td>None</td>\n",
       "    </tr>\n",
       "    <tr>\n",
       "      <th>7</th>\n",
       "      <td>[]</td>\n",
       "      <td>8</td>\n",
       "      <td>what is the waterproof rating of the tent I bo...</td>\n",
       "      <td>7</td>\n",
       "      <td>None</td>\n",
       "      <td>None</td>\n",
       "      <td>None</td>\n",
       "    </tr>\n",
       "    <tr>\n",
       "      <th>8</th>\n",
       "      <td>[]</td>\n",
       "      <td>8</td>\n",
       "      <td>what is the waterproof rating of the TrailMast...</td>\n",
       "      <td>8</td>\n",
       "      <td>Hi Melissa! 🌧️ The TrailMaster X4 Tent's rainf...</td>\n",
       "      <td>intent: chat</td>\n",
       "      <td>[{'content': 'Unveiling the TrailMaster X4 Ten...</td>\n",
       "    </tr>\n",
       "    <tr>\n",
       "      <th>9</th>\n",
       "      <td>[]</td>\n",
       "      <td>2</td>\n",
       "      <td>What is your return or exchange policy?</td>\n",
       "      <td>9</td>\n",
       "      <td>None</td>\n",
       "      <td>None</td>\n",
       "      <td>None</td>\n",
       "    </tr>\n",
       "  </tbody>\n",
       "</table>\n",
       "</div>"
      ],
      "text/plain": [
       "                    inputs.chat_history inputs.customerId  \\\n",
       "outputs.line_number                                         \n",
       "0                                    []                 4   \n",
       "1                                    []                 1   \n",
       "2                                    []                 3   \n",
       "3                                    []                 6   \n",
       "4                                    []                 2   \n",
       "5                                    []                 7   \n",
       "6                                    []                 7   \n",
       "7                                    []                 8   \n",
       "8                                    []                 8   \n",
       "9                                    []                 2   \n",
       "\n",
       "                                                       inputs.question  \\\n",
       "outputs.line_number                                                      \n",
       "0                                    tell me about your hiking jackets   \n",
       "1                                       Do you have any climbing gear?   \n",
       "2                       Can you tell me about your selection of tents?   \n",
       "3                                        Do you have any hiking boots?   \n",
       "4                               What gear do you recommend for hiking?   \n",
       "5                    what is the temperature rating of my sleeping ...   \n",
       "6                    what is the temperature rating of the cozynigh...   \n",
       "7                    what is the waterproof rating of the tent I bo...   \n",
       "8                    what is the waterproof rating of the TrailMast...   \n",
       "9                              What is your return or exchange policy?   \n",
       "\n",
       "                     inputs.line_number  \\\n",
       "outputs.line_number                       \n",
       "0                                     0   \n",
       "1                                     1   \n",
       "2                                     2   \n",
       "3                                     3   \n",
       "4                                     4   \n",
       "5                                     5   \n",
       "6                                     6   \n",
       "7                                     7   \n",
       "8                                     8   \n",
       "9                                     9   \n",
       "\n",
       "                                                        outputs.answer  \\\n",
       "outputs.line_number                                                      \n",
       "0                                                                 None   \n",
       "1                                                                 None   \n",
       "2                                                                 None   \n",
       "3                    Hey Emily! 👋 Absolutely, we have some amazing ...   \n",
       "4                                                                 None   \n",
       "5                                                                 None   \n",
       "6                                                                 None   \n",
       "7                                                                 None   \n",
       "8                    Hi Melissa! 🌧️ The TrailMaster X4 Tent's rainf...   \n",
       "9                                                                 None   \n",
       "\n",
       "                    outputs.intent_context  \\\n",
       "outputs.line_number                          \n",
       "0                                     None   \n",
       "1                                     None   \n",
       "2                                     None   \n",
       "3                             intent: chat   \n",
       "4                                     None   \n",
       "5                                     None   \n",
       "6                                     None   \n",
       "7                                     None   \n",
       "8                             intent: chat   \n",
       "9                                     None   \n",
       "\n",
       "                                                       outputs.context  \n",
       "outputs.line_number                                                     \n",
       "0                                                                 None  \n",
       "1                                                                 None  \n",
       "2                                                                 None  \n",
       "3                    [{'content': 'Introducing the TrekReady Hiking...  \n",
       "4                                                                 None  \n",
       "5                                                                 None  \n",
       "6                                                                 None  \n",
       "7                                                                 None  \n",
       "8                    [{'content': 'Unveiling the TrailMaster X4 Ten...  \n",
       "9                                                                 None  "
      ]
     },
     "execution_count": 7,
     "metadata": {},
     "output_type": "execute_result"
    }
   ],
   "source": [
    "details = pf_azure_client.get_details(base_run)\n",
    "details.head(10)"
   ]
  },
  {
   "cell_type": "markdown",
   "metadata": {},
   "source": [
    "## Intent Prompt Flow Evaluation - Eval Run"
   ]
  },
  {
   "cell_type": "code",
   "execution_count": 8,
   "metadata": {},
   "outputs": [],
   "source": [
    "eval_flow = \"multi_flow/\"\n",
    "data = \"../data/alltestdata.jsonl\"\n",
    "run_name = \"intent_eval_run\"\n",
    "column_mapping={\n",
    "        # reference data\n",
    "        \"customerId\": \"${data.customerId}\",\n",
    "        \"question\": \"${data.question}\",\n",
    "        \"context\": \"${run.outputs.context}\",\n",
    "        # reference the run's output\n",
    "        \"answer\": \"${run.outputs.answer}\",\n",
    "    }"
   ]
  },
  {
   "cell_type": "code",
   "execution_count": 9,
   "metadata": {},
   "outputs": [
    {
     "name": "stderr",
     "output_type": "stream",
     "text": [
      "[2024-03-05 21:11:06,550][promptflow][WARNING] - You're using automatic runtime, if it's first time you're using it, it may take a while to build runtime and you may see 'NotStarted' status for a while. \n"
     ]
    },
    {
     "name": "stdout",
     "output_type": "stream",
     "text": [
      "Portal url: https://ai.azure.com/projectflows/bulkrun/run/intent_eval_run_03_05_2111/details?wsid=/subscriptions/a195fdab-ef20-44e0-ae3a-48b2e1764e85/resourcegroups/contchat-rg/providers/Microsoft.MachineLearningServices/workspaces/contoso-chat-sf-aiproj\n"
     ]
    }
   ],
   "source": [
    "eval_run = run_azure_eval_flow(runtime, eval_flow, run_name, data, column_mapping, base_run, pf_azure_client)"
   ]
  },
  {
   "cell_type": "code",
   "execution_count": 10,
   "metadata": {},
   "outputs": [
    {
     "name": "stdout",
     "output_type": "stream",
     "text": [
      "(Run status is 'NotStarted', continue streaming...)\n",
      "2024-03-05 13:11:42 +0000     109 promptflow-runtime INFO     [intent_eval_run_03_05_2111] Receiving v2 bulk run request 2a6abe7a-2619-4c87-9378-9facae64bee9: {\"flow_id\": \"intent_eval_run_03_05_2111\", \"flow_run_id\": \"intent_eval_run_03_05_2111\", \"flow_source\": {\"flow_source_type\": 1, \"flow_source_info\": {\"snapshot_id\": \"01f27b19-1806-4c9d-b60f-e635ecf93fbc\"}, \"flow_dag_file\": \"flow.dag.yaml\"}, \"connections\": \"**data_scrubbed**\", \"log_path\": \"https://stcontosoy46u2sqpv3h6g.blob.core.windows.net/8927edb2-b165-4c51-a19d-7201534af4ac-azureml/ExperimentRun/dcid.intent_eval_run_03_05_2111/logs/azureml/executionlogs.txt?sv=2019-07-07&sr=b&sig=**data_scrubbed**&skoid=3d6e6777-5406-46a6-9b64-dbf0f2b204d3&sktid=16b3c013-d300-468d-ac64-7eda0820b6d3&skt=2024-03-05T10%3A19%3A06Z&ske=2024-03-06T18%3A29%3A06Z&sks=b&skv=2019-07-07&st=2024-03-05T13%3A01%3A42Z&se=2024-03-05T21%3A11%3A42Z&sp=rcw\", \"app_insights_instrumentation_key\": \"InstrumentationKey=**data_scrubbed**;IngestionEndpoint=https://swedencentral-0.in.applicationinsights.azure.com/\", \"batch_timeout_sec\": 36000, \"data_inputs\": {\"data\": \"azureml://datastores/workspaceblobstore/paths/LocalUpload/95d29047bbd601233b0275c6ef72dc19/alltestdata.jsonl\", \"run.outputs\": \"azureml:/subscriptions/a195fdab-ef20-44e0-ae3a-48b2e1764e85/resourceGroups/contchat-rg/providers/Microsoft.MachineLearningServices/workspaces/contoso-chat-sf-aiproj/data/azureml_intent_base_run_03_05_2105_output_data_flow_outputs/versions/1\"}, \"inputs_mapping\": {\"customerId\": \"${data.customerId}\", \"question\": \"${data.question}\", \"context\": \"${run.outputs.context}\", \"answer\": \"${run.outputs.answer}\"}, \"azure_storage_setting\": {\"azure_storage_mode\": 1, \"storage_account_name\": \"stcontosoy46u2sqpv3h6g\", \"blob_container_name\": \"8927edb2-b165-4c51-a19d-7201534af4ac-azureml-blobstore\", \"flow_artifacts_root_path\": \"promptflow/PromptFlowArtifacts/intent_eval_run_03_05_2111\", \"blob_container_sas_token\": \"?sv=2019-07-07&sr=c&sig=**data_scrubbed**&skoid=3d6e6777-5406-46a6-9b64-dbf0f2b204d3&sktid=16b3c013-d300-468d-ac64-7eda0820b6d3&skt=2024-03-05T13%3A11%3A42Z&ske=2024-03-12T13%3A11%3A42Z&sks=b&skv=2019-07-07&se=2024-03-12T13%3A11%3A42Z&sp=racwl\", \"output_datastore_name\": \"workspaceblobstore\"}}\n",
      "2024-03-05 13:11:42 +0000     109 promptflow-runtime INFO     Runtime version: 20240222.v3. PromptFlow version: 1.6.0rc1\n",
      "2024-03-05 13:11:42 +0000     109 promptflow-runtime INFO     Updating intent_eval_run_03_05_2111 to Status.Preparing...\n",
      "2024-03-05 13:11:42 +0000     109 promptflow-runtime INFO     Downloading snapshot to /mnt/host/service/app/39757/requests/intent_eval_run_03_05_2111\n",
      "2024-03-05 13:11:42 +0000     109 promptflow-runtime INFO     Get snapshot sas url for 01f27b19-1806-4c9d-b60f-e635ecf93fbc.\n",
      "2024-03-05 13:11:43 +0000     109 promptflow-runtime INFO     Snapshot 01f27b19-1806-4c9d-b60f-e635ecf93fbc contains 26 files.\n",
      "2024-03-05 13:11:43 +0000     109 promptflow-runtime INFO     Download snapshot 01f27b19-1806-4c9d-b60f-e635ecf93fbc completed.\n",
      "2024-03-05 13:11:43 +0000     109 promptflow-runtime INFO     Successfully download snapshot to /mnt/host/service/app/39757/requests/intent_eval_run_03_05_2111\n",
      "2024-03-05 13:11:43 +0000     109 promptflow-runtime INFO     About to execute a python flow.\n",
      "2024-03-05 13:11:43 +0000     109 promptflow-runtime INFO     Use spawn method to start child process.\n",
      "2024-03-05 13:11:43 +0000     109 promptflow-runtime INFO     Starting to check process 185 status for run intent_eval_run_03_05_2111\n",
      "2024-03-05 13:11:43 +0000     109 promptflow-runtime INFO     Start checking run status for run intent_eval_run_03_05_2111\n",
      "2024-03-05 13:11:47 +0000     185 promptflow-runtime INFO     [109--185] Start processing flowV2......\n",
      "2024-03-05 13:11:47 +0000     185 promptflow-runtime INFO     Runtime version: 20240222.v3. PromptFlow version: 1.6.0rc1\n",
      "2024-03-05 13:11:47 +0000     185 promptflow-runtime INFO     Setting mlflow tracking uri...\n",
      "2024-03-05 13:11:47 +0000     185 promptflow-runtime INFO     Validating 'AzureML Data Scientist' user authentication...\n",
      "2024-03-05 13:11:48 +0000     185 promptflow-runtime INFO     Successfully validated 'AzureML Data Scientist' user authentication.\n",
      "2024-03-05 13:11:48 +0000     185 promptflow-runtime INFO     Using AzureMLRunStorageV2\n",
      "2024-03-05 13:11:48 +0000     185 promptflow-runtime INFO     Setting mlflow tracking uri to 'azureml://swedencentral.api.azureml.ms/mlflow/v1.0/subscriptions/a195fdab-ef20-44e0-ae3a-48b2e1764e85/resourceGroups/contchat-rg/providers/Microsoft.MachineLearningServices/workspaces/contoso-chat-sf-aiproj'\n",
      "2024-03-05 13:11:48 +0000     185 promptflow-runtime INFO     Initialized blob service client.\n",
      "2024-03-05 13:11:48 +0000     185 promptflow-runtime INFO     Blob service client has api version: 2023-11-03\n",
      "2024-03-05 13:11:48 +0000     185 promptflow-runtime INFO     Setting mlflow tracking uri to 'azureml://swedencentral.api.azureml.ms/mlflow/v1.0/subscriptions/a195fdab-ef20-44e0-ae3a-48b2e1764e85/resourceGroups/contchat-rg/providers/Microsoft.MachineLearningServices/workspaces/contoso-chat-sf-aiproj'\n",
      "2024-03-05 13:11:49 +0000     185 promptflow-runtime INFO     Resolve data from url finished in 1.025154299999997 seconds\n",
      "2024-03-05 13:11:50 +0000     185 promptflow-runtime INFO     Resolve data from url finished in 0.9970259689999921 seconds\n",
      "2024-03-05 13:11:50 +0000     185 promptflow-runtime INFO     Starting the aml run 'intent_eval_run_03_05_2111'...\n",
      "2024-03-05 13:11:51 +0000     185 execution.bulk     INFO     The timeout for the batch run is 36000 seconds.\n",
      "2024-03-05 13:11:51 +0000     185 execution.bulk     INFO     Set process count to 2 by taking the minimum value among the factors of {'default_worker_count': 4, 'row_count': 2}.\n",
      "2024-03-05 13:11:56 +0000     185 execution.bulk     INFO     Process name(ForkProcess-2:2:2)-Process id(318)-Line number(3) start execution.\n",
      "2024-03-05 13:11:56 +0000     185 execution.bulk     INFO     Process name(ForkProcess-2:2:1)-Process id(310)-Line number(8) start execution.\n",
      "2024-03-05 13:11:58 +0000     185 execution.bulk     INFO     Process name(ForkProcess-2:2:1)-Process id(310)-Line number(8) completed.\n",
      "2024-03-05 13:11:58 +0000     185 execution.bulk     INFO     Process name(ForkProcess-2:2:2)-Process id(318)-Line number(3) completed.\n",
      "2024-03-05 13:11:59 +0000     185 execution.bulk     INFO     Finished 2 / 2 lines.\n",
      "2024-03-05 13:11:59 +0000     185 execution.bulk     INFO     Average execution time for completed lines: 4.0 seconds. Estimated time for incomplete lines: 0.0 seconds.\n",
      "2024-03-05 13:12:00 +0000     185 execution.bulk     INFO     Executing aggregation nodes...\n",
      "2024-03-05 13:12:00 +0000     185 execution.bulk     INFO     Finish executing aggregation nodes.\n",
      "2024-03-05 13:12:00 +0000     185 promptflow-runtime INFO     Post processing batch result...\n",
      "2024-03-05 13:12:04 +0000     185 execution.bulk     INFO     Upload status summary metrics for run intent_eval_run_03_05_2111 finished in 3.9786162819999618 seconds\n",
      "2024-03-05 13:12:06 +0000     185 execution.bulk     INFO     Upload metrics for run intent_eval_run_03_05_2111 finished in 2.0738182290000395 seconds\n",
      "2024-03-05 13:12:06 +0000     185 promptflow-runtime INFO     Successfully write run properties {\"azureml.promptflow.total_tokens\": 8080, \"_azureml.evaluate_artifacts\": \"[{\\\"path\\\": \\\"instance_results.jsonl\\\", \\\"type\\\": \\\"table\\\"}]\"} with run id 'intent_eval_run_03_05_2111'\n",
      "2024-03-05 13:12:06 +0000     185 execution.bulk     INFO     Upload RH properties for run intent_eval_run_03_05_2111 finished in 0.057053375999998934 seconds\n",
      "2024-03-05 13:12:06 +0000     185 promptflow-runtime INFO     Creating unregistered output Asset for Run intent_eval_run_03_05_2111...\n",
      "2024-03-05 13:12:06 +0000     185 promptflow-runtime INFO     Created debug_info Asset: azureml://locations/swedencentral/workspaces/8927edb2-b165-4c51-a19d-7201534af4ac/data/azureml_intent_eval_run_03_05_2111_output_data_debug_info/versions/1\n",
      "2024-03-05 13:12:06 +0000     185 promptflow-runtime INFO     Creating unregistered output Asset for Run intent_eval_run_03_05_2111...\n",
      "2024-03-05 13:12:07 +0000     185 promptflow-runtime INFO     Created flow_outputs output Asset: azureml://locations/swedencentral/workspaces/8927edb2-b165-4c51-a19d-7201534af4ac/data/azureml_intent_eval_run_03_05_2111_output_data_flow_outputs/versions/1\n",
      "2024-03-05 13:12:07 +0000     185 promptflow-runtime INFO     Creating Artifact for Run intent_eval_run_03_05_2111...\n",
      "2024-03-05 13:12:07 +0000     185 promptflow-runtime INFO     Created instance_results.jsonl Artifact.\n",
      "2024-03-05 13:12:07 +0000     185 promptflow-runtime INFO     Patching intent_eval_run_03_05_2111...\n",
      "2024-03-05 13:12:07 +0000     185 promptflow-runtime INFO     Ending the aml run 'intent_eval_run_03_05_2111' with status 'Completed'...\n",
      "======= Run Summary =======\n",
      "Run name: \"intent_eval_run_03_05_2111\"\n",
      "Run status: \"Completed\"\n",
      "Start time: \"2024-03-05 13:11:50.749006+00:00\"\n",
      "Duration: \"0:00:16.684806\"\n",
      "Run url: \"https://ai.azure.com/projectflows/bulkrun/run/intent_eval_run_03_05_2111/details?wsid=/subscriptions/a195fdab-ef20-44e0-ae3a-48b2e1764e85/resourcegroups/contchat-rg/providers/Microsoft.MachineLearningServices/workspaces/contoso-chat-sf-aiproj\""
     ]
    },
    {
     "data": {
      "text/plain": [
       "<promptflow._sdk.entities._run.Run at 0x7f0bd419b210>"
      ]
     },
     "execution_count": 10,
     "metadata": {},
     "output_type": "execute_result"
    }
   ],
   "source": [
    "pf_azure_client.stream(eval_run)"
   ]
  },
  {
   "cell_type": "code",
   "execution_count": 11,
   "metadata": {},
   "outputs": [
    {
     "data": {
      "text/html": [
       "<div>\n",
       "<style scoped>\n",
       "    .dataframe tbody tr th:only-of-type {\n",
       "        vertical-align: middle;\n",
       "    }\n",
       "\n",
       "    .dataframe tbody tr th {\n",
       "        vertical-align: top;\n",
       "    }\n",
       "\n",
       "    .dataframe thead th {\n",
       "        text-align: right;\n",
       "    }\n",
       "</style>\n",
       "<table border=\"1\" class=\"dataframe\">\n",
       "  <thead>\n",
       "    <tr style=\"text-align: right;\">\n",
       "      <th></th>\n",
       "      <th>inputs.customerId</th>\n",
       "      <th>inputs.question</th>\n",
       "      <th>inputs.context</th>\n",
       "      <th>inputs.answer</th>\n",
       "      <th>inputs.line_number</th>\n",
       "      <th>inputs.chat_history</th>\n",
       "      <th>outputs.gpt_coherence</th>\n",
       "      <th>outputs.gpt_fluency</th>\n",
       "      <th>outputs.gpt_groundedness</th>\n",
       "      <th>outputs.gpt_relevance</th>\n",
       "    </tr>\n",
       "    <tr>\n",
       "      <th>outputs.line_number</th>\n",
       "      <th></th>\n",
       "      <th></th>\n",
       "      <th></th>\n",
       "      <th></th>\n",
       "      <th></th>\n",
       "      <th></th>\n",
       "      <th></th>\n",
       "      <th></th>\n",
       "      <th></th>\n",
       "      <th></th>\n",
       "    </tr>\n",
       "  </thead>\n",
       "  <tbody>\n",
       "    <tr>\n",
       "      <th>3</th>\n",
       "      <td>6</td>\n",
       "      <td>Do you have any hiking boots?</td>\n",
       "      <td>[{'content': \"Introducing the TrekReady Hiking...</td>\n",
       "      <td>Hey Emily! 👋 Absolutely, we have some amazing ...</td>\n",
       "      <td>3</td>\n",
       "      <td>[]</td>\n",
       "      <td>5.0</td>\n",
       "      <td>5.0</td>\n",
       "      <td>5.0</td>\n",
       "      <td>4.0</td>\n",
       "    </tr>\n",
       "    <tr>\n",
       "      <th>8</th>\n",
       "      <td>8</td>\n",
       "      <td>what is the waterproof rating of the TrailMast...</td>\n",
       "      <td>[{'content': 'Unveiling the TrailMaster X4 Ten...</td>\n",
       "      <td>Hi Melissa! 🌧️ The TrailMaster X4 Tent's rainf...</td>\n",
       "      <td>8</td>\n",
       "      <td>[]</td>\n",
       "      <td>4.0</td>\n",
       "      <td>4.0</td>\n",
       "      <td>3.0</td>\n",
       "      <td>2.0</td>\n",
       "    </tr>\n",
       "  </tbody>\n",
       "</table>\n",
       "</div>"
      ],
      "text/plain": [
       "                    inputs.customerId  \\\n",
       "outputs.line_number                     \n",
       "3                                   6   \n",
       "8                                   8   \n",
       "\n",
       "                                                       inputs.question  \\\n",
       "outputs.line_number                                                      \n",
       "3                                        Do you have any hiking boots?   \n",
       "8                    what is the waterproof rating of the TrailMast...   \n",
       "\n",
       "                                                        inputs.context  \\\n",
       "outputs.line_number                                                      \n",
       "3                    [{'content': \"Introducing the TrekReady Hiking...   \n",
       "8                    [{'content': 'Unveiling the TrailMaster X4 Ten...   \n",
       "\n",
       "                                                         inputs.answer  \\\n",
       "outputs.line_number                                                      \n",
       "3                    Hey Emily! 👋 Absolutely, we have some amazing ...   \n",
       "8                    Hi Melissa! 🌧️ The TrailMaster X4 Tent's rainf...   \n",
       "\n",
       "                     inputs.line_number inputs.chat_history  \\\n",
       "outputs.line_number                                           \n",
       "3                                     3                  []   \n",
       "8                                     8                  []   \n",
       "\n",
       "                     outputs.gpt_coherence  outputs.gpt_fluency  \\\n",
       "outputs.line_number                                               \n",
       "3                                      5.0                  5.0   \n",
       "8                                      4.0                  4.0   \n",
       "\n",
       "                     outputs.gpt_groundedness  outputs.gpt_relevance  \n",
       "outputs.line_number                                                   \n",
       "3                                         5.0                    4.0  \n",
       "8                                         3.0                    2.0  "
      ]
     },
     "execution_count": 11,
     "metadata": {},
     "output_type": "execute_result"
    }
   ],
   "source": [
    "details = pf_azure_client.get_details(eval_run)\n",
    "details.head(10)"
   ]
  },
  {
   "cell_type": "code",
   "execution_count": 12,
   "metadata": {},
   "outputs": [
    {
     "name": "stdout",
     "output_type": "stream",
     "text": [
      "{\n",
      "    \"gpt_coherence\": 4.5,\n",
      "    \"gpt_coherence_pass_rate(%)\": 100.0,\n",
      "    \"gpt_fluency\": 4.5,\n",
      "    \"gpt_fluency_pass_rate(%)\": 100.0,\n",
      "    \"gpt_groundedness\": 4.0,\n",
      "    \"gpt_groundedness_pass_rate(%)\": 50.0,\n",
      "    \"gpt_relevance\": 3.0,\n",
      "    \"gpt_relevance_pass_rate(%)\": 50.0\n",
      "}\n"
     ]
    }
   ],
   "source": [
    "\n",
    "metrics = pf_azure_client.get_metrics(eval_run)\n",
    "print(json.dumps(metrics, indent=4))"
   ]
  },
  {
   "cell_type": "code",
   "execution_count": 13,
   "metadata": {},
   "outputs": [
    {
     "name": "stdout",
     "output_type": "stream",
     "text": [
      "Web View: https://ml.azure.com/prompts/flow/bulkrun/runs/outputs?wsid=/subscriptions/a195fdab-ef20-44e0-ae3a-48b2e1764e85/resourceGroups/contchat-rg/providers/Microsoft.MachineLearningServices/workspaces/contoso-chat-sf-aiproj&runId=intent_base_run_03_05_2105,intent_eval_run_03_05_2111\n"
     ]
    }
   ],
   "source": [
    "pf_azure_client.visualize([base_run, eval_run])"
   ]
  }
 ],
 "metadata": {
  "kernelspec": {
   "display_name": ".venv",
   "language": "python",
   "name": "python3"
  },
  "language_info": {
   "codemirror_mode": {
    "name": "ipython",
    "version": 3
   },
   "file_extension": ".py",
   "mimetype": "text/x-python",
   "name": "python",
   "nbconvert_exporter": "python",
   "pygments_lexer": "ipython3",
   "version": "3.11.7"
  }
 },
 "nbformat": 4,
 "nbformat_minor": 2
}
