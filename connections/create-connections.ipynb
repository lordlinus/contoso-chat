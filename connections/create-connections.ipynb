{
 "cells": [
  {
   "cell_type": "code",
   "execution_count": 7,
   "metadata": {},
   "outputs": [],
   "source": [
    "import os\n",
    "from pathlib import Path\n",
    "\n",
    "from promptflow import PFClient\n",
    "from promptflow.entities import (\n",
    "    AzureOpenAIConnection,\n",
    "    CustomConnection,\n",
    "    CognitiveSearchConnection,\n",
    ")\n",
    "from dotenv import load_dotenv\n",
    "\n",
    "load_dotenv(\"../.env\")\n",
    "\n",
    "pf = PFClient()"
   ]
  },
  {
   "cell_type": "code",
   "execution_count": 17,
   "metadata": {},
   "outputs": [
    {
     "name": "stdout",
     "output_type": "stream",
     "text": [
      "name: aoai-connection\n",
      "module: promptflow.connections\n",
      "created_date: '2024-03-04T18:54:59.782619'\n",
      "last_modified_date: '2024-03-05T18:39:32.892940'\n",
      "type: azure_open_ai\n",
      "api_key: '******'\n",
      "api_base: https://contoso-chat-sf-ai-aiservicesy46u2sqpv3h6g.openai.azure.com/\n",
      "api_type: azure\n",
      "api_version: 2023-07-01-preview\n",
      "auth_mode: key\n",
      "\n",
      "name: contoso-cosmos\n",
      "module: promptflow.connections\n",
      "created_date: '2024-03-04T18:54:59.843470'\n",
      "last_modified_date: '2024-03-05T18:39:32.944358'\n",
      "type: custom\n",
      "configs:\n",
      "  endpoint: https://cosmos-contosoy46u2sqpv3h6g.documents.azure.com:443/\n",
      "  databaseId: contoso-outdoor\n",
      "  containerId: customers\n",
      "secrets:\n",
      "  key: '******'\n",
      "\n",
      "name: contoso-search\n",
      "module: promptflow.connections\n",
      "created_date: '2024-03-04T18:54:59.884742'\n",
      "last_modified_date: '2024-03-05T18:39:33.010284'\n",
      "type: cognitive_search\n",
      "api_key: '******'\n",
      "api_base: https://search-contosoy46u2sqpv3h6g.search.windows.net/\n",
      "api_version: 2023-07-01-preview\n",
      "\n",
      "name: contoso-chat-model\n",
      "module: promptflow.connections\n",
      "created_date: '2024-03-05T18:16:09.812297'\n",
      "last_modified_date: '2024-03-05T18:16:09.812297'\n",
      "type: custom\n",
      "configs:\n",
      "  api_base: https://contoso-chat-store-ss0016.swedencentral.inference.ml.azure.com/score\n",
      "secrets:\n",
      "  api_key: '******'\n",
      "\n",
      "name: contoso-support\n",
      "module: promptflow.connections\n",
      "created_date: '2024-03-05T18:17:12.383566'\n",
      "last_modified_date: '2024-03-05T18:17:12.383566'\n",
      "type: custom\n",
      "configs:\n",
      "  api_base: https://contoso-support.swedencentral.inference.ml.azure.com/score\n",
      "secrets:\n",
      "  api_key: '******'\n",
      "\n",
      "name: support-endpoint\n",
      "module: promptflow.connections\n",
      "created_date: '2024-03-05T18:37:43.809876'\n",
      "last_modified_date: '2024-03-05T18:39:33.069631'\n",
      "type: custom\n",
      "configs:\n",
      "  api_base: https://contoso-support.swedencentral.inference.ml.azure.com/score\n",
      "secrets:\n",
      "  api_key: '******'\n",
      "\n",
      "name: chat-endpoint\n",
      "module: promptflow.connections\n",
      "created_date: '2024-03-05T18:37:43.859210'\n",
      "last_modified_date: '2024-03-05T18:39:33.114851'\n",
      "type: custom\n",
      "configs:\n",
      "  api_base: https://contoso-chat-store-ss0016.swedencentral.inference.ml.azure.com/score\n",
      "secrets:\n",
      "  api_key: '******'\n",
      "\n"
     ]
    }
   ],
   "source": [
    "for con in pf.connections.list():\n",
    "    print(con)"
   ]
  },
  {
   "cell_type": "code",
   "execution_count": 8,
   "metadata": {},
   "outputs": [
    {
     "name": "stdout",
     "output_type": "stream",
     "text": [
      "Creating connection aoai-connection...\n",
      "name: aoai-connection\n",
      "module: promptflow.connections\n",
      "created_date: '2024-03-04T18:54:59.782619'\n",
      "last_modified_date: '2024-03-05T18:39:32.892940'\n",
      "type: azure_open_ai\n",
      "api_key: '******'\n",
      "api_base: https://contoso-chat-sf-ai-aiservicesy46u2sqpv3h6g.openai.azure.com/\n",
      "api_type: azure\n",
      "api_version: 2023-07-01-preview\n",
      "auth_mode: key\n",
      "\n"
     ]
    }
   ],
   "source": [
    "# Create local Azure OpenAI Connection\n",
    "AOAI_KEY = os.environ[\"CONTOSO_AI_SERVICES_KEY\"]\n",
    "AOAI_ENDPOINT = os.environ[\"CONTOSO_AI_SERVICES_ENDPOINT\"]\n",
    "connection = AzureOpenAIConnection(\n",
    "    name=\"aoai-connection\",\n",
    "    api_key=AOAI_KEY,\n",
    "    api_base=AOAI_ENDPOINT,\n",
    "    api_type=\"azure\",\n",
    "    api_version=\"2023-07-01-preview\",\n",
    ")\n",
    "\n",
    "print(f\"Creating connection {connection.name}...\")\n",
    "result = pf.connections.create_or_update(connection)\n",
    "print(result)"
   ]
  },
  {
   "cell_type": "code",
   "execution_count": 9,
   "metadata": {},
   "outputs": [
    {
     "name": "stdout",
     "output_type": "stream",
     "text": [
      "Creating connection contoso-cosmos...\n",
      "name: contoso-cosmos\n",
      "module: promptflow.connections\n",
      "created_date: '2024-03-04T18:54:59.843470'\n",
      "last_modified_date: '2024-03-05T18:39:32.944358'\n",
      "type: custom\n",
      "configs:\n",
      "  endpoint: https://cosmos-contosoy46u2sqpv3h6g.documents.azure.com:443/\n",
      "  databaseId: contoso-outdoor\n",
      "  containerId: customers\n",
      "secrets:\n",
      "  key: '******'\n",
      "\n"
     ]
    }
   ],
   "source": [
    "# Create the local contoso-cosmos connection\n",
    "COSMOS_ENDPOINT = os.environ[\"COSMOS_ENDPOINT\"]\n",
    "COSMOS_KEY = os.environ[\"COSMOS_KEY\"]\n",
    "connection = CustomConnection(\n",
    "    name=\"contoso-cosmos\",\n",
    "    configs={\n",
    "        \"endpoint\": COSMOS_ENDPOINT,\n",
    "        \"databaseId\": \"contoso-outdoor\",\n",
    "        \"containerId\": \"customers\",\n",
    "    },\n",
    "    secrets={\"key\": COSMOS_KEY},\n",
    ")\n",
    "\n",
    "print(f\"Creating connection {connection.name}...\")\n",
    "result = pf.connections.create_or_update(connection)\n",
    "print(result)"
   ]
  },
  {
   "cell_type": "code",
   "execution_count": 10,
   "metadata": {},
   "outputs": [
    {
     "name": "stdout",
     "output_type": "stream",
     "text": [
      "Creating connection contoso-search...\n",
      "name: contoso-search\n",
      "module: promptflow.connections\n",
      "created_date: '2024-03-04T18:54:59.884742'\n",
      "last_modified_date: '2024-03-05T18:39:33.010284'\n",
      "type: cognitive_search\n",
      "api_key: '******'\n",
      "api_base: https://search-contosoy46u2sqpv3h6g.search.windows.net/\n",
      "api_version: 2023-07-01-preview\n",
      "\n"
     ]
    }
   ],
   "source": [
    "# Create the local contoso-search connection\n",
    "SEARCH_ENDPOINT = os.environ[\"CONTOSO_SEARCH_ENDPOINT\"]\n",
    "SEARCH_KEY = os.environ[\"CONTOSO_SEARCH_KEY\"]\n",
    "connection = CognitiveSearchConnection(\n",
    "    name=\"contoso-search\",\n",
    "    api_key=SEARCH_KEY,\n",
    "    api_base=SEARCH_ENDPOINT,\n",
    "    api_version=\"2023-07-01-preview\",\n",
    ")\n",
    "\n",
    "print(f\"Creating connection {connection.name}...\")\n",
    "result = pf.connections.create_or_update(connection)\n",
    "print(result)"
   ]
  },
  {
   "cell_type": "code",
   "execution_count": 11,
   "metadata": {},
   "outputs": [
    {
     "name": "stdout",
     "output_type": "stream",
     "text": [
      "https://contoso-support.swedencentral.inference.ml.azure.com/score\n",
      "Creating connection support-endpoint...\n",
      "name: support-endpoint\n",
      "module: promptflow.connections\n",
      "created_date: '2024-03-05T18:37:43.809876'\n",
      "last_modified_date: '2024-03-05T18:39:33.069631'\n",
      "type: custom\n",
      "configs:\n",
      "  api_base: https://contoso-support.swedencentral.inference.ml.azure.com/score\n",
      "secrets:\n",
      "  api_key: '******'\n",
      "\n"
     ]
    }
   ],
   "source": [
    "# Create the local contoso-search connection\n",
    "SUPPORT_ENDPOINT = os.environ[\"SUPPORT_ENDPOINT\"]\n",
    "SUPPORT_KEY = os.environ[\"SUPPORT_KEY\"]\n",
    "print(SUPPORT_ENDPOINT)\n",
    "\n",
    "if SUPPORT_ENDPOINT == \"\":\n",
    "    print(\"Skipping support connection creation, missing environment variables\")\n",
    "else:\n",
    "    connection = CustomConnection(\n",
    "        name=\"support-endpoint\",\n",
    "        configs={\n",
    "            \"api_base\": SUPPORT_ENDPOINT,\n",
    "        },\n",
    "        secrets={\"api_key\": SUPPORT_KEY},\n",
    "    )\n",
    "\n",
    "    print(f\"Creating connection {connection.name}...\")\n",
    "    result = pf.connections.create_or_update(connection)\n",
    "    print(result)"
   ]
  },
  {
   "cell_type": "code",
   "execution_count": 12,
   "metadata": {},
   "outputs": [
    {
     "name": "stdout",
     "output_type": "stream",
     "text": [
      "Creating connection chat-endpoint...\n",
      "name: chat-endpoint\n",
      "module: promptflow.connections\n",
      "created_date: '2024-03-05T18:37:43.859210'\n",
      "last_modified_date: '2024-03-05T18:39:33.114851'\n",
      "type: custom\n",
      "configs:\n",
      "  api_base: https://contoso-chat-store-ss0016.swedencentral.inference.ml.azure.com/score\n",
      "secrets:\n",
      "  api_key: '******'\n",
      "\n"
     ]
    }
   ],
   "source": [
    "# Create the local contoso-search connection\n",
    "CHAT_ENDPOINT = os.environ[\"CHAT_ENDPOINT\"]\n",
    "CHAT_KEY = os.environ[\"CHAT_KEY\"]\n",
    "\n",
    "if CHAT_ENDPOINT == \"\":\n",
    "    print(\"Skipping chat connection creation, missing environment variables\")\n",
    "else:\n",
    "    connection = CustomConnection(\n",
    "        name=\"chat-endpoint\",\n",
    "        configs={\n",
    "            \"api_base\": CHAT_ENDPOINT,\n",
    "        },\n",
    "        secrets={\"api_key\": CHAT_KEY},\n",
    "    )\n",
    "\n",
    "    print(f\"Creating connection {connection.name}...\")\n",
    "    result = pf.connections.create_or_update(connection)\n",
    "    print(result)"
   ]
  }
 ],
 "metadata": {
  "kernelspec": {
   "display_name": "pfmain",
   "language": "python",
   "name": "python3"
  },
  "language_info": {
   "codemirror_mode": {
    "name": "ipython",
    "version": 3
   },
   "file_extension": ".py",
   "mimetype": "text/x-python",
   "name": "python",
   "nbconvert_exporter": "python",
   "pygments_lexer": "ipython3",
   "version": "3.11.7"
  }
 },
 "nbformat": 4,
 "nbformat_minor": 2
}
